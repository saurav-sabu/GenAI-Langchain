{
  "nbformat": 4,
  "nbformat_minor": 0,
  "metadata": {
    "colab": {
      "provenance": []
    },
    "kernelspec": {
      "name": "python3",
      "display_name": "Python 3"
    },
    "language_info": {
      "name": "python"
    }
  },
  "cells": [
    {
      "cell_type": "markdown",
      "source": [
        "# Installation of Required Packages"
      ],
      "metadata": {
        "id": "sNc6sAMB7es5"
      }
    },
    {
      "cell_type": "code",
      "execution_count": null,
      "metadata": {
        "id": "HdFlhRgucpOO"
      },
      "outputs": [],
      "source": [
        "! pip install langchain"
      ]
    },
    {
      "cell_type": "code",
      "source": [
        "! pip install -U langchain-openai"
      ],
      "metadata": {
        "id": "X6CA64TKxtyV"
      },
      "execution_count": null,
      "outputs": []
    },
    {
      "cell_type": "code",
      "source": [
        "! pip install langchain-huggingface"
      ],
      "metadata": {
        "id": "seAjdlBUx2jX"
      },
      "execution_count": null,
      "outputs": []
    },
    {
      "cell_type": "code",
      "source": [
        "! pip install langchain_google_genai"
      ],
      "metadata": {
        "id": "_msKK_8U21dc"
      },
      "execution_count": null,
      "outputs": []
    },
    {
      "cell_type": "markdown",
      "source": [
        "# Importing Libraries"
      ],
      "metadata": {
        "id": "HXNQfiAJ7lcr"
      }
    },
    {
      "cell_type": "code",
      "source": [
        "import langchain\n",
        "from langchain_openai import OpenAI\n",
        "from langchain_google_genai import ChatGoogleGenerativeAI\n",
        "from langchain_huggingface import HuggingFaceEndpoint\n",
        "\n",
        "from google.colab import userdata"
      ],
      "metadata": {
        "id": "EItA4SnDimO-"
      },
      "execution_count": 5,
      "outputs": []
    },
    {
      "cell_type": "markdown",
      "source": [
        "### Langchain with Gemini"
      ],
      "metadata": {
        "id": "cKZFgcWT3YOo"
      }
    },
    {
      "cell_type": "code",
      "source": [
        "GEMINI_API_KEY = userdata.get('GEMINI_API_KEY')"
      ],
      "metadata": {
        "id": "i-PkrnFEogHx"
      },
      "execution_count": 6,
      "outputs": []
    },
    {
      "cell_type": "code",
      "source": [
        "# Create an instance of ChatGoogleGenerativeAI\n",
        "llm1 = ChatGoogleGenerativeAI(model=\"gemini-pro\",google_api_key=GEMINI_API_KEY)"
      ],
      "metadata": {
        "id": "sVEDc50o3Xd3"
      },
      "execution_count": 7,
      "outputs": []
    },
    {
      "cell_type": "code",
      "source": [
        "# Invoke the model with a query\n",
        "llm1.invoke(\"What is capital of India?\")"
      ],
      "metadata": {
        "colab": {
          "base_uri": "https://localhost:8080/"
        },
        "id": "J-t1tVZe3t_v",
        "outputId": "5d1dcd7d-614f-4553-9de4-54154439e2a8"
      },
      "execution_count": 8,
      "outputs": [
        {
          "output_type": "execute_result",
          "data": {
            "text/plain": [
              "AIMessage(content='New Delhi', response_metadata={'prompt_feedback': {'block_reason': 0, 'safety_ratings': []}, 'finish_reason': 'STOP', 'safety_ratings': [{'category': 'HARM_CATEGORY_SEXUALLY_EXPLICIT', 'probability': 'NEGLIGIBLE', 'blocked': False}, {'category': 'HARM_CATEGORY_HATE_SPEECH', 'probability': 'NEGLIGIBLE', 'blocked': False}, {'category': 'HARM_CATEGORY_HARASSMENT', 'probability': 'NEGLIGIBLE', 'blocked': False}, {'category': 'HARM_CATEGORY_DANGEROUS_CONTENT', 'probability': 'NEGLIGIBLE', 'blocked': False}]}, id='run-a8f6a348-51eb-45a7-8da2-62a421532e42-0', usage_metadata={'input_tokens': 7, 'output_tokens': 2, 'total_tokens': 9})"
            ]
          },
          "metadata": {},
          "execution_count": 8
        }
      ]
    },
    {
      "cell_type": "code",
      "source": [
        "llm1.invoke(\"What is capital of India?\").content"
      ],
      "metadata": {
        "colab": {
          "base_uri": "https://localhost:8080/",
          "height": 36
        },
        "id": "ETZGzJ4E35_j",
        "outputId": "d50aa71d-1110-48a4-ae0f-0c8d888d05ba"
      },
      "execution_count": 9,
      "outputs": [
        {
          "output_type": "execute_result",
          "data": {
            "text/plain": [
              "'New Delhi'"
            ],
            "application/vnd.google.colaboratory.intrinsic+json": {
              "type": "string"
            }
          },
          "metadata": {},
          "execution_count": 9
        }
      ]
    },
    {
      "cell_type": "markdown",
      "source": [
        "### Langchain with OpenAI"
      ],
      "metadata": {
        "id": "SKe9eArYsVox"
      }
    },
    {
      "cell_type": "code",
      "source": [
        "OPEN_AI_KEY = userdata.get('OPEN_AI_KEY')"
      ],
      "metadata": {
        "id": "WcH7hFufojQP"
      },
      "execution_count": 10,
      "outputs": []
    },
    {
      "cell_type": "code",
      "source": [
        "# Create an instance of OpenAI\n",
        "llm2 = OpenAI(openai_api_key = OPEN_AI_KEY )"
      ],
      "metadata": {
        "id": "s44mCUgTtjiw"
      },
      "execution_count": 11,
      "outputs": []
    },
    {
      "cell_type": "code",
      "source": [
        "# Define the query\n",
        "text = \"What is generative AI?\""
      ],
      "metadata": {
        "id": "IUOSesEcwcmE"
      },
      "execution_count": 12,
      "outputs": []
    },
    {
      "cell_type": "code",
      "source": [
        "# Invoke the model with the query and print the response\n",
        "print(llm2.invoke(text))"
      ],
      "metadata": {
        "colab": {
          "base_uri": "https://localhost:8080/"
        },
        "id": "CRr3z6yqw3k6",
        "outputId": "c68713fa-3f72-4868-b591-78aed2e3f81c"
      },
      "execution_count": 13,
      "outputs": [
        {
          "output_type": "stream",
          "name": "stdout",
          "text": [
            "\n",
            "\n",
            "Generative AI (Artificial Intelligence) is a subset of AI that focuses on creating new and original content, rather than just analyzing existing data. It involves using algorithms and machine learning techniques to generate new ideas, images, text, and other forms of content. This can include creating new music, videos, stories, and even entirely new and unique pieces of art. Generative AI aims to mimic the creative process of humans, allowing machines to learn and generate new content autonomously. It has applications in various fields such as art, music, design, and marketing.\n"
          ]
        }
      ]
    },
    {
      "cell_type": "markdown",
      "source": [
        "### Langchain with HuggingFace Hub"
      ],
      "metadata": {
        "id": "qIppHqiDyLdj"
      }
    },
    {
      "cell_type": "code",
      "source": [
        "HF_Token = userdata.get('HF_Token')"
      ],
      "metadata": {
        "id": "8_UldrJTy7Yx"
      },
      "execution_count": 14,
      "outputs": []
    },
    {
      "cell_type": "code",
      "source": [
        "# Create an instance of HuggingFaceEndpoint\n",
        "llm3 = HuggingFaceEndpoint(repo_id=\"mistralai/Mistral-7B-Instruct-v0.3\", huggingfacehub_api_token = HF_Token)"
      ],
      "metadata": {
        "id": "4hI8X9abyTHb"
      },
      "execution_count": null,
      "outputs": []
    },
    {
      "cell_type": "code",
      "source": [
        "# Invoke the model with a query and print the response\n",
        "print(llm3.invoke(\"Tell me about India?\"))"
      ],
      "metadata": {
        "colab": {
          "base_uri": "https://localhost:8080/"
        },
        "id": "-x55_6Iny9S_",
        "outputId": "f60a5bce-6804-4438-9749-5edda88d8259"
      },
      "execution_count": 16,
      "outputs": [
        {
          "output_type": "stream",
          "name": "stdout",
          "text": [
            "\n",
            "\n",
            "India is a country located in South Asia. It is the seventh-largest country by geographical area, the second-most populous country, and the most populous democracy in the world. Bounded by the Indian Ocean on the south, the Arabian Sea on the south-west, and the Bay of Bengal on the south-east, it shares land borders with Pakistan to the west, China, Nepal, and Bhutan to the north-east, and Bangladesh and Myanmar to the east. It also shares a maritime border with Sri Lanka to the south-east, Maldives to the south-west, and the Maldives to the south-west.\n",
            "\n",
            "India has a diverse culture, with a rich history and a wide range of languages, religions, and customs. It is known for its ancient civilizations, including the Indus Valley Civilization, which dates back to around 2500 BCE, and the Maurya and Gupta empires, which flourished between the 4th and 6th centuries CE. India was also a major center of the spread of Buddhism, Jainism, and Hinduism, and has a significant influence on art, architecture, literature, and philosophy.\n",
            "\n",
            "Today, India is a federal parliamentary democratic republic, with a president as the head of state and a prime minister as the head of government. It has a diverse economy, with a mix of agriculture, industry, and services. It is one of the fastest-growing major economies in the world, and is a leading player in the global technology, pharmaceutical, and automotive industries. India is also a major tourist destination, with its rich cultural heritage, diverse landscapes, and vibrant cities attracting millions of visitors each year.\n"
          ]
        }
      ]
    }
  ]
}