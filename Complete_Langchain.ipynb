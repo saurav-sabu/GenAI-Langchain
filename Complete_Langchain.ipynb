{
  "nbformat": 4,
  "nbformat_minor": 0,
  "metadata": {
    "colab": {
      "provenance": []
    },
    "kernelspec": {
      "name": "python3",
      "display_name": "Python 3"
    },
    "language_info": {
      "name": "python"
    }
  },
  "cells": [
    {
      "cell_type": "markdown",
      "source": [
        "# Install necessary libraries"
      ],
      "metadata": {
        "id": "p8oNIgLH5hiQ"
      }
    },
    {
      "cell_type": "code",
      "execution_count": null,
      "metadata": {
        "id": "nUJcwiDi2uql"
      },
      "outputs": [],
      "source": [
        "! pip install langchain"
      ]
    },
    {
      "cell_type": "code",
      "source": [
        "! pip install langchain-openai"
      ],
      "metadata": {
        "id": "ZSfHlHbe6O6T"
      },
      "execution_count": null,
      "outputs": []
    },
    {
      "cell_type": "code",
      "source": [
        "! pip install huggingface-hub"
      ],
      "metadata": {
        "id": "7Jz43zZn-_4Q"
      },
      "execution_count": null,
      "outputs": []
    },
    {
      "cell_type": "code",
      "source": [
        "! pip install langchain-community"
      ],
      "metadata": {
        "id": "70YuqrdZCJTL"
      },
      "execution_count": null,
      "outputs": []
    },
    {
      "cell_type": "code",
      "source": [
        "! pip install google-search-results"
      ],
      "metadata": {
        "id": "-I7qJoZ4jEOp"
      },
      "execution_count": null,
      "outputs": []
    },
    {
      "cell_type": "code",
      "source": [
        "! pip install wikipedia"
      ],
      "metadata": {
        "id": "eRDymDchlr-2"
      },
      "execution_count": null,
      "outputs": []
    },
    {
      "cell_type": "code",
      "source": [
        "! pip install pypdf"
      ],
      "metadata": {
        "id": "L16b5Ei21f6o"
      },
      "execution_count": null,
      "outputs": []
    },
    {
      "cell_type": "markdown",
      "source": [
        "# Setup Environment Variables"
      ],
      "metadata": {
        "id": "BrzNpg9M5uRj"
      }
    },
    {
      "cell_type": "code",
      "source": [
        "from google.colab import userdata"
      ],
      "metadata": {
        "id": "3lwgJTg54j5V"
      },
      "execution_count": 8,
      "outputs": []
    },
    {
      "cell_type": "markdown",
      "source": [
        "### Retrieve API keys from user data\n"
      ],
      "metadata": {
        "id": "UQyy_-zm5uQn"
      }
    },
    {
      "cell_type": "code",
      "source": [
        "OPENAI_KEY = userdata.get('OPENAI_KEY')"
      ],
      "metadata": {
        "id": "dwJpjIIR5G7S"
      },
      "execution_count": 9,
      "outputs": []
    },
    {
      "cell_type": "code",
      "source": [
        "HF_Token = userdata.get('HF_Token')"
      ],
      "metadata": {
        "id": "ZcQg2Slu9hIN"
      },
      "execution_count": 10,
      "outputs": []
    },
    {
      "cell_type": "code",
      "source": [
        "SERP_API_KEY = userdata.get('SERP_API_KEY')"
      ],
      "metadata": {
        "id": "5FoJD58zjmeN"
      },
      "execution_count": 11,
      "outputs": []
    },
    {
      "cell_type": "markdown",
      "source": [
        "# Load GPT Model"
      ],
      "metadata": {
        "id": "6ED5Ljoc6IFB"
      }
    },
    {
      "cell_type": "code",
      "source": [
        "from langchain_openai import OpenAI"
      ],
      "metadata": {
        "id": "DNheM6Kp7CEQ"
      },
      "execution_count": 12,
      "outputs": []
    },
    {
      "cell_type": "markdown",
      "source": [
        "Example 1: Invoke OpenAI model with default temperature"
      ],
      "metadata": {
        "id": "25rl7bTN-Iju"
      }
    },
    {
      "cell_type": "code",
      "source": [
        "llm = OpenAI(api_key=OPENAI_KEY)\n",
        "\n",
        "print(llm.invoke(\"Name one indian food\"))"
      ],
      "metadata": {
        "colab": {
          "base_uri": "https://localhost:8080/"
        },
        "id": "mQvdakh96L0_",
        "outputId": "05c2987c-935e-4100-c796-783410f6989e"
      },
      "execution_count": 13,
      "outputs": [
        {
          "output_type": "stream",
          "name": "stdout",
          "text": [
            "\n",
            "\n",
            "Samosa\n"
          ]
        }
      ]
    },
    {
      "cell_type": "code",
      "source": [
        "# Invoke OpenAI model with low temperature for more deterministic results\n",
        "llm = OpenAI(api_key=OPENAI_KEY,temperature=0.1)\n",
        "\n",
        "print(llm.invoke(\"Tell me about India\"))"
      ],
      "metadata": {
        "colab": {
          "base_uri": "https://localhost:8080/"
        },
        "id": "KRHJAA256oL8",
        "outputId": "9a48995a-a8b4-44dd-9e19-0eb9b88fbae2"
      },
      "execution_count": 14,
      "outputs": [
        {
          "output_type": "stream",
          "name": "stdout",
          "text": [
            "\n",
            "\n",
            "India is a country located in South Asia, bordered by the Indian Ocean, the Arabian Sea, and the Bay of Bengal. It is the second most populous country in the world, with over 1.3 billion people, and is known for its diverse culture, rich history, and vibrant traditions.\n",
            "\n",
            "India has a long and complex history, with evidence of human activity dating back to 75,000 years ago. It has been ruled by various empires and dynasties, including the Mauryan, Gupta, and Mughal empires, before being colonized by the British in the 18th century. India gained independence in 1947 after a long struggle led by Mahatma Gandhi and other freedom fighters.\n",
            "\n",
            "Today, India is a federal parliamentary republic with a democratic government. It is divided into 28 states and 8 union territories, each with its own unique culture, language, and traditions. The official languages of India are Hindi and English, but there are over 1,500 other languages spoken in the country.\n",
            "\n",
            "India is a land of diverse landscapes, from the snow-capped Himalayan mountains in the north to the tropical beaches of the south. It is also home to a variety of wildlife, including tigers, elephants, and pe\n"
          ]
        }
      ]
    },
    {
      "cell_type": "code",
      "source": [
        "# Invoke OpenAI model with higher temperature for more creative results\n",
        "llm = OpenAI(api_key=OPENAI_KEY,temperature=0.9)\n",
        "\n",
        "print(llm.invoke(\"Tell me about India\"))"
      ],
      "metadata": {
        "colab": {
          "base_uri": "https://localhost:8080/"
        },
        "id": "hIFAefEZ7dr9",
        "outputId": "8ae31d04-ca13-4619-9fb5-30ccb5f422a9"
      },
      "execution_count": 15,
      "outputs": [
        {
          "output_type": "stream",
          "name": "stdout",
          "text": [
            "\n",
            "\n",
            "India is a diverse country located in South Asia, bordering Pakistan, China, Nepal, Bhutan, Bangladesh, and Myanmar. It is the second-most populous country in the world, with over 1.3 billion people. India is known for its rich culture, history, and traditions.\n",
            "\n",
            "The country has a long and complex history, with influences from various empires, religions, and cultures. The first major civilization to emerge in India was the Indus Valley Civilization, which flourished from around 3300 BCE to 1300 BCE.\n",
            "\n",
            "Throughout its history, India has been ruled by various dynasties, including the Mauryan, Gupta, Mughal, and British empires. The country gained independence from British rule in 1947, and it adopted a democratic constitution in 1950.\n",
            "\n",
            "India is a federal parliamentary democratic republic, with the Prime Minister as the head of government and the President as the head of state. The government is divided into three branches: the executive, legislative, and judicial.\n",
            "\n",
            "India has a diverse landscape, ranging from the Himalayas in the north to the Indian Ocean in the south. It is home to a vast array of flora and fauna, including iconic species such as the Bengal tiger, Asian elephant, and Indian rh\n"
          ]
        }
      ]
    },
    {
      "cell_type": "markdown",
      "source": [
        "Example 2: Using a higher temperature for a creative task"
      ],
      "metadata": {
        "id": "VdWgECtp-LgF"
      }
    },
    {
      "cell_type": "code",
      "source": [
        "llm = OpenAI(api_key=OPENAI_KEY,temperature=0.9)\n",
        "\n",
        "print(llm.invoke(\"I want to start Indian Restaurant. Can you suggest one fancy name?\"))"
      ],
      "metadata": {
        "colab": {
          "base_uri": "https://localhost:8080/"
        },
        "id": "u_uS4uRF7oLQ",
        "outputId": "1572b824-d43e-453c-fe8a-35e39c69cb2b"
      },
      "execution_count": 16,
      "outputs": [
        {
          "output_type": "stream",
          "name": "stdout",
          "text": [
            "\n",
            "\n",
            "1. Masala Magic\n",
            "2. Royal Tandoor\n",
            "3. Mogul Masala\n",
            "4. Spice Affair\n",
            "5. The Curry Palace\n",
            "6. Aroma of India\n",
            "7. The Maharaja's Kitchen\n",
            "8. Namaste India\n",
            "9. Exotic Bites\n",
            "10. Naan and Nirvana\n"
          ]
        }
      ]
    },
    {
      "cell_type": "markdown",
      "source": [
        "# Load Open Source Model"
      ],
      "metadata": {
        "id": "7vT_BZSeJq38"
      }
    },
    {
      "cell_type": "code",
      "source": [
        "from langchain import HuggingFaceHub"
      ],
      "metadata": {
        "id": "vbGsCn2T-Vjm"
      },
      "execution_count": 17,
      "outputs": []
    },
    {
      "cell_type": "code",
      "source": [
        "# Initialize the Hugging Face model\n",
        "llm1 = HuggingFaceHub(repo_id=\"mistralai/Mistral-7B-Instruct-v0.3\",huggingfacehub_api_token=HF_Token,model_kwargs={\"temperature\":0.9})"
      ],
      "metadata": {
        "id": "CAYuzNzW_fnS",
        "colab": {
          "base_uri": "https://localhost:8080/"
        },
        "outputId": "a313b229-0ade-467d-d6a0-d19417331ffe"
      },
      "execution_count": 18,
      "outputs": [
        {
          "output_type": "stream",
          "name": "stderr",
          "text": [
            "/usr/local/lib/python3.10/dist-packages/langchain_core/_api/deprecation.py:119: LangChainDeprecationWarning: The class `HuggingFaceHub` was deprecated in LangChain 0.0.21 and will be removed in 0.3.0. An updated version of the class exists in the langchain-huggingface package and should be used instead. To use it run `pip install -U langchain-huggingface` and import as `from langchain_huggingface import HuggingFaceEndpoint`.\n",
            "  warn_deprecated(\n"
          ]
        }
      ]
    },
    {
      "cell_type": "code",
      "source": [
        "print(llm1.invoke(\"My name is Saurav: translate to hindi\"))"
      ],
      "metadata": {
        "colab": {
          "base_uri": "https://localhost:8080/"
        },
        "id": "jrfcllvK_r2b",
        "outputId": "e09fcfe6-2da2-4567-8db4-241241b6b7ae"
      },
      "execution_count": 19,
      "outputs": [
        {
          "output_type": "stream",
          "name": "stdout",
          "text": [
            "My name is Saurav: translate to hindi. Saurav हैं मेरा नाम।\n",
            "\n",
            "Mera naam hai Saurav.\n",
            "\n",
            "That's correct! In Hindi, \"My name is\" translates to \"मेरा नाम है\" (Mera naam hai) and \"Saurav\" translates to \"सौरव\" (Saurav). So, the full sentence would be \"मे\n"
          ]
        }
      ]
    },
    {
      "cell_type": "markdown",
      "source": [
        "# Prompt Template"
      ],
      "metadata": {
        "id": "KASn38LjDO3_"
      }
    },
    {
      "cell_type": "code",
      "source": [
        "from langchain import PromptTemplate"
      ],
      "metadata": {
        "id": "EGY2MMCBBSUB"
      },
      "execution_count": 20,
      "outputs": []
    },
    {
      "cell_type": "markdown",
      "source": [
        "1st Method"
      ],
      "metadata": {
        "id": "kdeC-C14ITXs"
      }
    },
    {
      "cell_type": "code",
      "source": [
        "# 1st Method: Create a prompt template with an input variable\n",
        "prompt_template_name = PromptTemplate(\n",
        "    input_variables = [\"cuisine\"],\n",
        "    template = \"I want to start {cuisine} Restaurant. Can you suggest one fancy name?\"\n",
        ")\n",
        "\n",
        "p = prompt_template_name.format(cuisine=\"Indian\")\n",
        "print(p)"
      ],
      "metadata": {
        "colab": {
          "base_uri": "https://localhost:8080/"
        },
        "id": "bMGsrSeQDlde",
        "outputId": "d6dbc182-c739-4a2f-be2b-a5dc50498495"
      },
      "execution_count": 21,
      "outputs": [
        {
          "output_type": "stream",
          "name": "stdout",
          "text": [
            "I want to start Indian Restaurant. Can you suggest one fancy name?\n"
          ]
        }
      ]
    },
    {
      "cell_type": "markdown",
      "source": [
        "2nd Method"
      ],
      "metadata": {
        "id": "fgCuuPoZIVbt"
      }
    },
    {
      "cell_type": "code",
      "source": [
        "# Format the prompt with a specific cuisine\n",
        "prompt = PromptTemplate.from_template(template=\"I want to start {cuisine} Restaurant. Can you suggest one fancy name?\")\n",
        "prompt.format(cuisine = \"Indian\")"
      ],
      "metadata": {
        "colab": {
          "base_uri": "https://localhost:8080/",
          "height": 36
        },
        "id": "d-5USw4YG5bl",
        "outputId": "a5a30eb7-b5b0-40c6-a85e-cd455cc0f6ff"
      },
      "execution_count": 22,
      "outputs": [
        {
          "output_type": "execute_result",
          "data": {
            "text/plain": [
              "'I want to start Indian Restaurant. Can you suggest one fancy name?'"
            ],
            "application/vnd.google.colaboratory.intrinsic+json": {
              "type": "string"
            }
          },
          "metadata": {},
          "execution_count": 22
        }
      ]
    },
    {
      "cell_type": "markdown",
      "source": [
        "# Chains"
      ],
      "metadata": {
        "id": "WnASQO01IXw7"
      }
    },
    {
      "cell_type": "code",
      "source": [
        "from langchain.chains import LLMChain"
      ],
      "metadata": {
        "id": "xBc3Q1G5I5bx"
      },
      "execution_count": 23,
      "outputs": []
    },
    {
      "cell_type": "markdown",
      "source": [
        "Using GPT Model in a chain"
      ],
      "metadata": {
        "id": "thzBXUHpLWOd"
      }
    },
    {
      "cell_type": "code",
      "source": [
        "llm = OpenAI(api_key=OPENAI_KEY,temperature=0.9)\n",
        "\n",
        "prompt = PromptTemplate.from_template(template=\"I want to start {cuisine} Restaurant. Can you suggest one fancy name?\")\n",
        "prompt.format(cuisine = \"Indian\")"
      ],
      "metadata": {
        "colab": {
          "base_uri": "https://localhost:8080/",
          "height": 36
        },
        "id": "FG3rCmeKIRzz",
        "outputId": "a8b091d2-4276-4ffd-e096-d3af2dd10571"
      },
      "execution_count": 24,
      "outputs": [
        {
          "output_type": "execute_result",
          "data": {
            "text/plain": [
              "'I want to start Indian Restaurant. Can you suggest one fancy name?'"
            ],
            "application/vnd.google.colaboratory.intrinsic+json": {
              "type": "string"
            }
          },
          "metadata": {},
          "execution_count": 24
        }
      ]
    },
    {
      "cell_type": "code",
      "source": [
        "# Create an LLM chain with the prompt\n",
        "chain = LLMChain(llm=llm,prompt=prompt)\n",
        "# Invoke the chain with a specific cuisine\n",
        "response = chain.invoke(\"German\")\n",
        "print(response[\"text\"])"
      ],
      "metadata": {
        "colab": {
          "base_uri": "https://localhost:8080/"
        },
        "id": "nmBIXbeKIy0Q",
        "outputId": "8268434e-500c-45fa-ca19-e78e818f2e53"
      },
      "execution_count": 25,
      "outputs": [
        {
          "output_type": "stream",
          "name": "stderr",
          "text": [
            "/usr/local/lib/python3.10/dist-packages/langchain_core/_api/deprecation.py:119: LangChainDeprecationWarning: The class `LLMChain` was deprecated in LangChain 0.1.17 and will be removed in 0.3.0. Use RunnableSequence, e.g., `prompt | llm` instead.\n",
            "  warn_deprecated(\n"
          ]
        },
        {
          "output_type": "stream",
          "name": "stdout",
          "text": [
            "\n",
            "\n",
            "\"Gourmet Germania\" \n"
          ]
        }
      ]
    },
    {
      "cell_type": "code",
      "source": [
        "# Create an LLM chain with verbosity for debugging\n",
        "chain = LLMChain(llm=llm,prompt=prompt,verbose=True)\n",
        "response = chain.invoke(\"German\")\n",
        "print(response[\"text\"])"
      ],
      "metadata": {
        "colab": {
          "base_uri": "https://localhost:8080/"
        },
        "id": "NKmeH8cUJCE6",
        "outputId": "af054b89-bf1d-46dd-f864-d474f563cc8a"
      },
      "execution_count": 26,
      "outputs": [
        {
          "output_type": "stream",
          "name": "stdout",
          "text": [
            "\n",
            "\n",
            "\u001b[1m> Entering new LLMChain chain...\u001b[0m\n",
            "Prompt after formatting:\n",
            "\u001b[32;1m\u001b[1;3mI want to start German Restaurant. Can you suggest one fancy name?\u001b[0m\n",
            "\n",
            "\u001b[1m> Finished chain.\u001b[0m\n",
            "\n",
            "\n",
            "Germany's Finest Bistro \n"
          ]
        }
      ]
    },
    {
      "cell_type": "markdown",
      "source": [
        "Using Open Source Model in a chain"
      ],
      "metadata": {
        "id": "aaAEDSgCLZGO"
      }
    },
    {
      "cell_type": "code",
      "source": [
        "llm1 = HuggingFaceHub(repo_id=\"mistralai/Mistral-7B-Instruct-v0.3\",huggingfacehub_api_token=HF_Token,model_kwargs={\"temperature\":0.9})\n",
        "\n",
        "prompt = PromptTemplate.from_template(template=\"I want to start {cuisine} Restaurant. Can you suggest one fancy name?\")"
      ],
      "metadata": {
        "id": "rgIAcopCK7l2"
      },
      "execution_count": 27,
      "outputs": []
    },
    {
      "cell_type": "code",
      "source": [
        "# Create an LLM chain with the prompt\n",
        "chain = LLMChain(llm=llm1,prompt=prompt)\n",
        "# Invoke the chain with a specific cuisine\n",
        "response = chain.invoke(\"German\")\n",
        "print(response[\"text\"])"
      ],
      "metadata": {
        "colab": {
          "base_uri": "https://localhost:8080/"
        },
        "id": "0UYTr1mvLkLu",
        "outputId": "ab302cc4-4ec6-4b5a-f5d0-85149c7a0230"
      },
      "execution_count": 28,
      "outputs": [
        {
          "output_type": "stream",
          "name": "stdout",
          "text": [
            "I want to start German Restaurant. Can you suggest one fancy name? Honestly, naming a restaurant can be a fun and creative process! To name a German restaurant, you might consider a name that reflects the traditional German cuisine, the warm and inviting atmosphere you want to create, or even a playful twist on traditional German terms. Here are a few suggestions for a fancy name for your German restaurant:\n",
            "\n",
            "1. Bavarian Crown - a nod to the Bavarian region of Germany, known for its hearty food and beer.\n",
            "2\n"
          ]
        }
      ]
    },
    {
      "cell_type": "code",
      "source": [
        "# Create an LLM chain with verbosity for debugging\n",
        "chain = LLMChain(llm=llm1,prompt=prompt,verbose=True)\n",
        "response = chain.invoke(\"German\")\n",
        "print(response[\"text\"])"
      ],
      "metadata": {
        "colab": {
          "base_uri": "https://localhost:8080/"
        },
        "id": "Wf80HipdLOmm",
        "outputId": "6a86945b-05c9-40c7-a16e-74cca5a2e5bf"
      },
      "execution_count": 29,
      "outputs": [
        {
          "output_type": "stream",
          "name": "stdout",
          "text": [
            "\n",
            "\n",
            "\u001b[1m> Entering new LLMChain chain...\u001b[0m\n",
            "Prompt after formatting:\n",
            "\u001b[32;1m\u001b[1;3mI want to start German Restaurant. Can you suggest one fancy name?\u001b[0m\n",
            "\n",
            "\u001b[1m> Finished chain.\u001b[0m\n",
            "I want to start German Restaurant. Can you suggest one fancy name? Honestly, naming a restaurant can be a fun and creative process! To name a German restaurant, you might consider a name that reflects the traditional German cuisine, the warm and inviting atmosphere you want to create, or even a playful twist on traditional German terms. Here are a few suggestions for a fancy name for your German restaurant:\n",
            "\n",
            "1. Bavarian Crown - a nod to the Bavarian region of Germany, known for its hearty food and beer.\n",
            "2\n"
          ]
        }
      ]
    },
    {
      "cell_type": "markdown",
      "source": [
        "# Simple Sequential Chain"
      ],
      "metadata": {
        "id": "Grnf9IfSPkSb"
      }
    },
    {
      "cell_type": "code",
      "source": [
        "from langchain.chains import SimpleSequentialChain"
      ],
      "metadata": {
        "id": "zxYQDM4OQg8W"
      },
      "execution_count": 30,
      "outputs": []
    },
    {
      "cell_type": "code",
      "source": [
        "# Initialize the Hugging Face model\n",
        "llm1 = HuggingFaceHub(repo_id=\"mistralai/Mistral-7B-Instruct-v0.3\",huggingfacehub_api_token=HF_Token,model_kwargs={\"temperature\":0.9})\n",
        "\n",
        "# Create a name prompt template\n",
        "name_prompt = PromptTemplate.from_template(template=\"I want to start {cuisine} Restaurant. Can you suggest one fancy name?\")\n",
        "\n",
        "# Create a name chain with an output key\n",
        "name_chain = LLMChain(llm=llm1,prompt=name_prompt)\n",
        "\n",
        "# Create a food item prompt template\n",
        "food_item_prompt = PromptTemplate.from_template(template=\"suggest some menu items for {restaurant_name}?\")\n",
        "\n",
        "# Create a food item chain with an output key\n",
        "food_item_chain = LLMChain(llm=llm1,prompt=food_item_prompt)"
      ],
      "metadata": {
        "id": "ntA4KvWHPnJo"
      },
      "execution_count": 31,
      "outputs": []
    },
    {
      "cell_type": "code",
      "source": [
        "# Create a sequential chain with the name and food item chains\n",
        "chain = SimpleSequentialChain(chains=[name_chain,food_item_chain])\n",
        "\n",
        "# Invoke the chain with a specific cuisine\n",
        "response = chain.invoke(\"Indian\")\n",
        "print(response[\"output\"])"
      ],
      "metadata": {
        "colab": {
          "base_uri": "https://localhost:8080/"
        },
        "id": "SUIGcCY-Qe9m",
        "outputId": "8f28713b-d013-4ecc-eb50-c59eeb174b68"
      },
      "execution_count": 32,
      "outputs": [
        {
          "output_type": "stream",
          "name": "stdout",
          "text": [
            "suggest some menu items for I want to start Indian Restaurant. Can you suggest one fancy name?\n",
            "Although I'm not an expert in naming restaurants, I can certainly suggest some creative and intriguing names for an Indian restaurant. Here are a few ideas:\n",
            "\n",
            "1. Spice Odyssey\n",
            "2. Raja's Table (Raja means King in Hindi)\n",
            "3. Masala Dreams\n",
            "4. Tandoor Tempest\n",
            "5. Bollywood Kitchen\n",
            "6. Curry Empire\n",
            "7. The Golden Tiffin\n",
            "8? Swah India\n",
            "9. Royal Moghul Kitchen\n",
            "\n",
            "Regarding menu items, here is a suggested list of traditional and popular Indian dishes that you could consider:\n",
            "\n",
            "1. Samosas (Deep-fried pastry filled with spiced potatoes, peas, or lentils)\n",
            "2. Pakoras (Fritters made from various vegetables, spices, and gram flour)\n",
            "3. Chaat (A variety of spicy street foods)\n",
            "4.\n"
          ]
        }
      ]
    },
    {
      "cell_type": "markdown",
      "source": [
        "# Sequential Chain"
      ],
      "metadata": {
        "id": "uCAkKvvkSTky"
      }
    },
    {
      "cell_type": "code",
      "source": [
        "from langchain.chains import SequentialChain"
      ],
      "metadata": {
        "id": "l7hoXRnIRz-A"
      },
      "execution_count": 33,
      "outputs": []
    },
    {
      "cell_type": "code",
      "source": [
        "# Initialize the Hugging Face model with specific repository and token\n",
        "llm1 = HuggingFaceHub(repo_id=\"mistralai/Mistral-7B-Instruct-v0.3\",huggingfacehub_api_token=HF_Token,model_kwargs={\"temperature\":0.9})\n",
        "\n",
        "# Create a prompt template for generating a restaurant name\n",
        "name_prompt = PromptTemplate.from_template(template=\"I want to start {cuisine} Restaurant. Can you suggest one fancy name?\")\n",
        "\n",
        "# Create a chain to generate a restaurant name using the model and prompt\n",
        "name_chain = LLMChain(llm=llm1,prompt=name_prompt,output_key=\"restaurant_name\")\n",
        "\n",
        "# Create a prompt template for suggesting menu items based on the restaurant name\n",
        "food_item_prompt = PromptTemplate.from_template(template=\"suggest some menu items for {restaurant_name}?\")\n",
        "\n",
        "# Create a chain to generate menu items using the model and prompt\n",
        "food_item_chain = LLMChain(llm=llm1,prompt=food_item_prompt,output_key=\"menu_items\")"
      ],
      "metadata": {
        "id": "SbdIDHpgSYX2"
      },
      "execution_count": 34,
      "outputs": []
    },
    {
      "cell_type": "code",
      "source": [
        "# Create a sequential chain that links the name generation and menu suggestion chains\n",
        "# The input variable for the chain is \"cuisine\"\n",
        "# The output variables from the chain are \"restaurant_name\" and \"menu_items\"\n",
        "chain1 = SequentialChain(chains=[name_chain,food_item_chain],\n",
        "                        input_variables = [\"cuisine\"],\n",
        "                        output_variables = [\"restaurant_name\",\"menu_items\"])\n",
        "\n",
        "# Invoke the chain with a specific cuisine, in this case \"Indian\"\n",
        "response = chain1.invoke({\"cuisine\":\"Indian\"})\n",
        "\n",
        "# Print the response which includes the generated restaurant name and suggested menu items\n",
        "print(response)"
      ],
      "metadata": {
        "colab": {
          "base_uri": "https://localhost:8080/"
        },
        "id": "Ll5cdODkSeZn",
        "outputId": "1148d204-5daf-4c60-8f76-eacd9b13a5f6"
      },
      "execution_count": 35,
      "outputs": [
        {
          "output_type": "stream",
          "name": "stdout",
          "text": [
            "{'cuisine': 'Indian', 'restaurant_name': \"I want to start Indian Restaurant. Can you suggest one fancy name?\\nAlthough I'm not an expert in naming restaurants, I can certainly suggest some creative and intriguing names for an Indian restaurant. Here are a few ideas:\\n\\n1. Spice Odyssey\\n2. Raja's Table (Raja means King in Hindi)\\n3. Masala Dreams\\n4. Tandoor Tempest\\n5. Bollywood Kitchen\\n6. Curry Empire\\n7. The Golden Tiffin\\n8\", 'menu_items': \"suggest some menu items for I want to start Indian Restaurant. Can you suggest one fancy name?\\nAlthough I'm not an expert in naming restaurants, I can certainly suggest some creative and intriguing names for an Indian restaurant. Here are a few ideas:\\n\\n1. Spice Odyssey\\n2. Raja's Table (Raja means King in Hindi)\\n3. Masala Dreams\\n4. Tandoor Tempest\\n5. Bollywood Kitchen\\n6. Curry Empire\\n7. The Golden Tiffin\\n8? Swah India\\n9. Royal Moghul Kitchen\\n\\nRegarding menu items, here is a suggested list of traditional and popular Indian dishes that you could consider:\\n\\n1. Samosas (Deep-fried pastry filled with spiced potatoes, peas, or lentils)\\n2. Pakoras (Fritters made from various vegetables, spices, and gram flour)\\n3. Chaat (A variety of spicy street foods)\\n4.\"}\n"
          ]
        }
      ]
    },
    {
      "cell_type": "markdown",
      "source": [
        "# Agents & Tools"
      ],
      "metadata": {
        "id": "yezZiMH6gDMa"
      }
    },
    {
      "cell_type": "markdown",
      "source": [
        "https://serpapi.com/"
      ],
      "metadata": {
        "id": "1OIaebpnjQKQ"
      }
    },
    {
      "cell_type": "code",
      "source": [
        "from langchain.agents import AgentType , initialize_agent, load_tools, Tool"
      ],
      "metadata": {
        "id": "42nrbi9TTCBy"
      },
      "execution_count": 36,
      "outputs": []
    },
    {
      "cell_type": "code",
      "source": [
        "# Initialize the OpenAI model\n",
        "llm2 = OpenAI(api_key=OPENAI_KEY,temperature=0.9)"
      ],
      "metadata": {
        "id": "amaB3_1cjyCH"
      },
      "execution_count": 37,
      "outputs": []
    },
    {
      "cell_type": "code",
      "source": [
        "# Load tools with the necessary APIs\n",
        "tools = load_tools([\"wikipedia\",\"llm-math\"],llm=llm2,serpapi_api_key=SERP_API_KEY)"
      ],
      "metadata": {
        "id": "Tp8C8gYSj1Yh"
      },
      "execution_count": 38,
      "outputs": []
    },
    {
      "cell_type": "code",
      "source": [
        "# Initialize an agent with the loaded tools\n",
        "agent = initialize_agent(tools,llm2,agent=AgentType.ZERO_SHOT_REACT_DESCRIPTION,verbose=True)"
      ],
      "metadata": {
        "id": "21LgzTYxj-fx",
        "colab": {
          "base_uri": "https://localhost:8080/"
        },
        "outputId": "c50ae679-160c-4ebe-a900-e5edfd01b6ef"
      },
      "execution_count": 39,
      "outputs": [
        {
          "output_type": "stream",
          "name": "stderr",
          "text": [
            "/usr/local/lib/python3.10/dist-packages/langchain_core/_api/deprecation.py:119: LangChainDeprecationWarning: The function `initialize_agent` was deprecated in LangChain 0.1.0 and will be removed in 0.3.0. Use Use new agent constructor methods like create_react_agent, create_json_agent, create_structured_chat_agent, etc. instead.\n",
            "  warn_deprecated(\n"
          ]
        }
      ]
    },
    {
      "cell_type": "code",
      "source": [
        "# Invoke the agent with a specific query\n",
        "agent.invoke(\"When was pursuit of happiness released\")"
      ],
      "metadata": {
        "colab": {
          "base_uri": "https://localhost:8080/"
        },
        "id": "l9y2K1YRkIfu",
        "outputId": "a3044e1d-b7c9-44d7-b7c7-0a4fac17447c"
      },
      "execution_count": 40,
      "outputs": [
        {
          "output_type": "stream",
          "name": "stdout",
          "text": [
            "\n",
            "\n",
            "\u001b[1m> Entering new AgentExecutor chain...\u001b[0m\n",
            "\u001b[32;1m\u001b[1;3m I should check wikipedia first\n",
            "Action: wikipedia\n",
            "Action Input: pursuit of happiness\u001b[0m"
          ]
        },
        {
          "output_type": "stream",
          "name": "stderr",
          "text": [
            "/usr/local/lib/python3.10/dist-packages/wikipedia/wikipedia.py:389: GuessedAtParserWarning: No parser was explicitly specified, so I'm using the best available HTML parser for this system (\"lxml\"). This usually isn't a problem, but if you run this code on another system, or in a different virtual environment, it may use a different parser and behave differently.\n",
            "\n",
            "The code that caused this warning is on line 389 of the file /usr/local/lib/python3.10/dist-packages/wikipedia/wikipedia.py. To get rid of this warning, pass the additional argument 'features=\"lxml\"' to the BeautifulSoup constructor.\n",
            "\n",
            "  lis = BeautifulSoup(html).find_all('li')\n"
          ]
        },
        {
          "output_type": "stream",
          "name": "stdout",
          "text": [
            "\n",
            "Observation: \u001b[36;1m\u001b[1;3mPage: Life, Liberty and the pursuit of Happiness\n",
            "Summary: \"Life, Liberty and the pursuit of Happiness\" is a well-known phrase from the United States Declaration of Independence. The phrase gives three examples of the unalienable rights which the Declaration says have been given to all humans by their Creator, and which governments are created to protect. Like the other principles in the Declaration of Independence, this phrase is not legally binding, but has been widely referenced and seen as an inspiration for the basis of government.\n",
            "\n",
            "Page: Pursuit of Happiness (song)\n",
            "Summary: \"Pursuit of Happiness\" is a song by American musician Kid Cudi, respectively featuring production and vocals from American electronic rock duo Ratatat and American neo-psychedelic act MGMT. The song was officially released on September 15, 2009, as the third single from Cudi's debut album, Man on the Moon: The End of Day (2009).\n",
            "The meaning of the song is often misconstrued with being about the positive side of a carefree lifestyle, when rather it tells a dark tale of drinking and driving as well as the regret and pain associated with drug abuse and how it leads to escapism.\n",
            "The song was certified diamond (10 million units) by the Recording Industry Association of America (RIAA) in December 2022.\u001b[0m\n",
            "Thought:\u001b[32;1m\u001b[1;3m I should double check on the release date with the song. Probably not what I'm looking for.\n",
            "Action: wikipedia\n",
            "Action Input: Pursuit of Happiness (Kid Cudi song)\u001b[0m\n",
            "Observation: \u001b[36;1m\u001b[1;3mPage: Pursuit of Happiness (song)\n",
            "Summary: \"Pursuit of Happiness\" is a song by American musician Kid Cudi, respectively featuring production and vocals from American electronic rock duo Ratatat and American neo-psychedelic act MGMT. The song was officially released on September 15, 2009, as the third single from Cudi's debut album, Man on the Moon: The End of Day (2009).\n",
            "The meaning of the song is often misconstrued with being about the positive side of a carefree lifestyle, when rather it tells a dark tale of drinking and driving as well as the regret and pain associated with drug abuse and how it leads to escapism.\n",
            "The song was certified diamond (10 million units) by the Recording Industry Association of America (RIAA) in December 2022.\n",
            "\n",
            "Page: Kid Cudi filmography\n",
            "Summary: Kid Cudi is an American actor, producer, film composer, music video director and musician. \n",
            "Having initially majored in film at the University of Toledo before dropping out, Cudi ventured into acting in 2009, when he was cast in the HBO series How to Make It in America. Cudi would continue to hone his acting skills, starring alongside fellow American rapper Cage, in Maniac (2011), a short horror film directed by American actor Shia LaBeouf. Cudi went on to appear in several feature films, including Goodbye World (2013), Need for Speed (2014), Entourage (2015), Bill & Ted Face the Music (2020), and Don't Look Up (2021). In addition, he has made appearances on television shows such as One Tree Hill, The Cleveland Show, Brooklyn Nine-Nine, and Westworld. In 2015, he was the bandleader on the IFC series Comedy Bang! Bang! and in 2020 starred in the TV drama We Are Who We Are.\n",
            "In 2020, Cudi launched production company Mad Solar, which went on to produce A Man Named Scott (2021), a documentary storying Cudi's musical career, as well as Cudi's Netflix animated special Entergalactic (2022), which Cudi co-created alongside fellow American producer Kenya Barris. In 2021, Cudi was credited as an executive producer on the award-winning film Malcolm & Marie. Mad Solar would also produce the critically acclaimed horror X (2022), which Cudi starred in, and its prequel Pearl (2022) and sequel MaXXXine (2023).\n",
            "In March 2022, Cudi revealed he would be making his feature directorial debut with the Netflix film, Teddy, a project he’s also written and in which he’ll star. Cudi announced the news in a social media post, noting that he’d been working on the project since 2013. Fellow American musicians Jay-Z and Jeymes Samuel serve as executives on the film, which was also produced by Bron Studios and Cudi's Mad Solar banner. Mad Solar is also set to produce a film adaptation of the coming-of-age campus novel Real Life, with Cudi set to star.\n",
            "\n",
            "Page: Kid Cudi discography\n",
            "Summary: The discography of American musician Kid Cudi consists of nine studio albums, one reissue, one compilation album, one box set, three extended plays (EPs), one mixtape, 32 singles (including 15 as a featured artist), eight promotional singles and 32 music videos, the details of which are included in his videography.\n",
            "Cudi was born and raised in Ohio, and his lyrics frequently explore his introspection inspired by perceived hardships of growing up as a somewhat alienated struggling artist. Cudi began his musical career sometime during 2003, and left his hometown of Cleveland to fully embark on a musical career in New York City. In November 2007, he released the song \"Day 'n' Nite\", which garnered minor recognition on sites such as MySpace and various underground music blogs. It soon caught the attention of Plain Pat the following year, the then-manager of high-profile rapper Kanye West—whom Cudi originally met two years prior. West signed the artist to his label GOOD Music in a joint venture with Universal Motown Records, and the label would re-issue \"Day 'n' Nite\" as his debut single.\n",
            "Cudi's debut album, Man on the Moon: The End of Day was released in September 2009 to critical acclaim and commercial succe\u001b[0m\n",
            "Thought:\u001b[32;1m\u001b[1;3m I now know the final answer\n",
            "Final Answer: September 15, 2009\u001b[0m\n",
            "\n",
            "\u001b[1m> Finished chain.\u001b[0m\n"
          ]
        },
        {
          "output_type": "execute_result",
          "data": {
            "text/plain": [
              "{'input': 'When was pursuit of happiness released',\n",
              " 'output': 'September 15, 2009'}"
            ]
          },
          "metadata": {},
          "execution_count": 40
        }
      ]
    },
    {
      "cell_type": "markdown",
      "source": [
        "# Memory"
      ],
      "metadata": {
        "id": "Ii5pjPrJnxpp"
      }
    },
    {
      "cell_type": "code",
      "source": [
        "llm1 = HuggingFaceHub(repo_id=\"mistralai/Mistral-7B-Instruct-v0.3\",huggingfacehub_api_token=HF_Token,model_kwargs={\"temperature\":0.9})\n",
        "\n",
        "# Create a name prompt template\n",
        "name_prompt = PromptTemplate.from_template(template=\"I want to start {cuisine} Restaurant. Can you suggest one fancy name?\")\n",
        "\n",
        "# Create an LLM chain\n",
        "chain = LLMChain(llm=llm1,prompt=name_prompt)\n",
        "\n",
        "# Invoke the chain with a specific cuisine\n",
        "print(chain.invoke(\"Mexican\")[\"text\"])"
      ],
      "metadata": {
        "colab": {
          "base_uri": "https://localhost:8080/"
        },
        "id": "QYDtvCLUkagh",
        "outputId": "e17d72d9-25f7-49d9-cd76-4ea385111e97"
      },
      "execution_count": 41,
      "outputs": [
        {
          "output_type": "stream",
          "name": "stdout",
          "text": [
            "I want to start Mexican Restaurant. Can you suggest one fancy name? We want the name to have a “religious” touch but still fancy and classy.\n",
            "\n",
            "1. Sanctuary Tacos - This name plays off the idea of a sanctuary or safe haven, while also referencing the traditional Mexican dish of tacos.\n",
            "2. Saints & Salsa - This name combines the idea of religious saints with the spicy, flavorful sauce known as salsa, which is commonly used in Mexican cuisine.\n"
          ]
        }
      ]
    },
    {
      "cell_type": "code",
      "source": [
        "# Create an LLM chain\n",
        "chain = LLMChain(llm=llm1,prompt=name_prompt)\n",
        "\n",
        "# Invoke the chain with a specific cuisine\n",
        "print(chain.invoke(\"Indian\")[\"text\"])"
      ],
      "metadata": {
        "colab": {
          "base_uri": "https://localhost:8080/"
        },
        "id": "muwDBR9loIFb",
        "outputId": "438fd0b1-816b-4464-887a-c86a400765b0"
      },
      "execution_count": 42,
      "outputs": [
        {
          "output_type": "stream",
          "name": "stdout",
          "text": [
            "I want to start Indian Restaurant. Can you suggest one fancy name?\n",
            "Although I'm not an expert in naming restaurants, I can certainly suggest some creative and intriguing names for an Indian restaurant. Here are a few ideas:\n",
            "\n",
            "1. Spice Odyssey\n",
            "2. Raja's Table (Raja means King in Hindi)\n",
            "3. Masala Dreams\n",
            "4. Tandoor Tempest\n",
            "5. Bollywood Kitchen\n",
            "6. Curry Empire\n",
            "7. The Golden Tiffin\n",
            "8\n"
          ]
        }
      ]
    },
    {
      "cell_type": "code",
      "source": [
        "# Type of memory used in the chain\n",
        "type(name_chain.memory)"
      ],
      "metadata": {
        "colab": {
          "base_uri": "https://localhost:8080/"
        },
        "id": "CgE7H8GdoT6_",
        "outputId": "2ba65bde-5ed9-435b-aef7-8ff62844bcf1"
      },
      "execution_count": 43,
      "outputs": [
        {
          "output_type": "execute_result",
          "data": {
            "text/plain": [
              "NoneType"
            ]
          },
          "metadata": {},
          "execution_count": 43
        }
      ]
    },
    {
      "cell_type": "markdown",
      "source": [
        "### ConversationBufferMemory"
      ],
      "metadata": {
        "id": "r-7ui-m_olzD"
      }
    },
    {
      "cell_type": "code",
      "source": [
        "from langchain.memory import ConversationBufferMemory\n",
        "\n",
        "# Initialize conversation buffer memory\n",
        "memory = ConversationBufferMemory()\n",
        "\n",
        "# Create an LLM chain with memory\n",
        "chain = LLMChain(llm=llm1,prompt=name_prompt,memory=memory)\n",
        "\n",
        "# Invoke the chain with indian cuisines\n",
        "print(chain.invoke(\"Indian\")[\"text\"])"
      ],
      "metadata": {
        "colab": {
          "base_uri": "https://localhost:8080/"
        },
        "id": "bnlZMBSsofKz",
        "outputId": "dba5cc16-45f5-44ae-9cfe-7ef3ce509b06"
      },
      "execution_count": 44,
      "outputs": [
        {
          "output_type": "stream",
          "name": "stdout",
          "text": [
            "I want to start Indian Restaurant. Can you suggest one fancy name?\n",
            "Although I'm not an expert in naming restaurants, I can certainly suggest some creative and intriguing names for an Indian restaurant. Here are a few ideas:\n",
            "\n",
            "1. Spice Odyssey\n",
            "2. Raja's Table (Raja means King in Hindi)\n",
            "3. Masala Dreams\n",
            "4. Tandoor Tempest\n",
            "5. Bollywood Kitchen\n",
            "6. Curry Empire\n",
            "7. The Golden Tiffin\n",
            "8\n"
          ]
        }
      ]
    },
    {
      "cell_type": "code",
      "source": [
        "# Invoke the chain with mexican cuisines\n",
        "print(chain.invoke(\"Mexican\")[\"text\"])"
      ],
      "metadata": {
        "colab": {
          "base_uri": "https://localhost:8080/"
        },
        "id": "lWKR9_1xo1kR",
        "outputId": "8bf325c4-c8fb-4443-cc01-4565d71bad81"
      },
      "execution_count": 45,
      "outputs": [
        {
          "output_type": "stream",
          "name": "stdout",
          "text": [
            "I want to start Mexican Restaurant. Can you suggest one fancy name? We want the name to have a “religious” touch but still fancy and classy.\n",
            "\n",
            "1. Sanctuary Tacos - This name plays off the idea of a sanctuary or safe haven, while also referencing the traditional Mexican dish of tacos.\n",
            "2. Saints & Salsa - This name combines the idea of religious saints with the spicy, flavorful sauce known as salsa, which is commonly used in Mexican cuisine.\n"
          ]
        }
      ]
    },
    {
      "cell_type": "code",
      "source": [
        "# Invoke the chain with gujarati cuisines\n",
        "print(chain.invoke(\"Gujarati\")[\"text\"])"
      ],
      "metadata": {
        "colab": {
          "base_uri": "https://localhost:8080/"
        },
        "id": "nfYPRouapGCz",
        "outputId": "79763910-970a-4ed0-cfae-ce8d30a8ca4c"
      },
      "execution_count": 46,
      "outputs": [
        {
          "output_type": "stream",
          "name": "stdout",
          "text": [
            "I want to start Gujarati Restaurant. Can you suggest one fancy name?\n",
            "\n",
            "Starting a restaurant is an exciting venture! Naming a restaurant is a crucial step in the process, as it sets the tone for your brand and helps attract customers. Here are a few ideas for a Gujarati restaurant's name that have a hint of elegance and exclusivity:\n",
            "\n",
            "1. Zaraan: A phrase derived from the Gujarati word \"zara,\" meaning small or little, this name suggests authentic and exquisite Gujarati dishes served\n"
          ]
        }
      ]
    },
    {
      "cell_type": "code",
      "source": [
        "# Print the memory buffer\n",
        "print(chain.memory.buffer)"
      ],
      "metadata": {
        "colab": {
          "base_uri": "https://localhost:8080/"
        },
        "id": "MXYPthQEo5Cw",
        "outputId": "8b86d2dd-09cf-4e66-8a4f-639d4c77881d"
      },
      "execution_count": 47,
      "outputs": [
        {
          "output_type": "stream",
          "name": "stdout",
          "text": [
            "Human: Indian\n",
            "AI: I want to start Indian Restaurant. Can you suggest one fancy name?\n",
            "Although I'm not an expert in naming restaurants, I can certainly suggest some creative and intriguing names for an Indian restaurant. Here are a few ideas:\n",
            "\n",
            "1. Spice Odyssey\n",
            "2. Raja's Table (Raja means King in Hindi)\n",
            "3. Masala Dreams\n",
            "4. Tandoor Tempest\n",
            "5. Bollywood Kitchen\n",
            "6. Curry Empire\n",
            "7. The Golden Tiffin\n",
            "8\n",
            "Human: Mexican\n",
            "AI: I want to start Mexican Restaurant. Can you suggest one fancy name? We want the name to have a “religious” touch but still fancy and classy.\n",
            "\n",
            "1. Sanctuary Tacos - This name plays off the idea of a sanctuary or safe haven, while also referencing the traditional Mexican dish of tacos.\n",
            "2. Saints & Salsa - This name combines the idea of religious saints with the spicy, flavorful sauce known as salsa, which is commonly used in Mexican cuisine.\n",
            "Human: Gujarati\n",
            "AI: I want to start Gujarati Restaurant. Can you suggest one fancy name?\n",
            "\n",
            "Starting a restaurant is an exciting venture! Naming a restaurant is a crucial step in the process, as it sets the tone for your brand and helps attract customers. Here are a few ideas for a Gujarati restaurant's name that have a hint of elegance and exclusivity:\n",
            "\n",
            "1. Zaraan: A phrase derived from the Gujarati word \"zara,\" meaning small or little, this name suggests authentic and exquisite Gujarati dishes served\n"
          ]
        }
      ]
    },
    {
      "cell_type": "markdown",
      "source": [
        "### Conversation Chain"
      ],
      "metadata": {
        "id": "VF2sLCQQpbk4"
      }
    },
    {
      "cell_type": "code",
      "source": [
        "from langchain.chains import ConversationChain\n",
        "\n",
        "# Initialize the OpenAI model\n",
        "llm = OpenAI(api_key=OPENAI_KEY,temperature=0.9)\n",
        "\n",
        "# Create a conversation chain\n",
        "convo = ConversationChain(llm=llm)\n",
        "\n",
        "# Print the conversation chain prompt template\n",
        "print(convo.prompt.template)"
      ],
      "metadata": {
        "colab": {
          "base_uri": "https://localhost:8080/"
        },
        "id": "KkpjKWYuped4",
        "outputId": "d5ced22b-d837-426c-c560-edbe18f27977"
      },
      "execution_count": 48,
      "outputs": [
        {
          "output_type": "stream",
          "name": "stdout",
          "text": [
            "The following is a friendly conversation between a human and an AI. The AI is talkative and provides lots of specific details from its context. If the AI does not know the answer to a question, it truthfully says it does not know.\n",
            "\n",
            "Current conversation:\n",
            "{history}\n",
            "Human: {input}\n",
            "AI:\n"
          ]
        }
      ]
    },
    {
      "cell_type": "markdown",
      "source": [
        "Run the conversation chain with specific queries\n"
      ],
      "metadata": {
        "id": "p14oox4I7888"
      }
    },
    {
      "cell_type": "code",
      "source": [
        "convo.run(\"Who won the first cricket world cup?\")"
      ],
      "metadata": {
        "colab": {
          "base_uri": "https://localhost:8080/",
          "height": 110
        },
        "id": "Ujph9UA6p1EQ",
        "outputId": "0ed0f221-ccd8-4cd1-c57b-9fbad8b976fa"
      },
      "execution_count": 49,
      "outputs": [
        {
          "output_type": "stream",
          "name": "stderr",
          "text": [
            "/usr/local/lib/python3.10/dist-packages/langchain_core/_api/deprecation.py:119: LangChainDeprecationWarning: The method `Chain.run` was deprecated in langchain 0.1.0 and will be removed in 0.3.0. Use invoke instead.\n",
            "  warn_deprecated(\n"
          ]
        },
        {
          "output_type": "execute_result",
          "data": {
            "text/plain": [
              "' The first cricket world cup was won by the West Indies in 1975. They defeated Australia in the finals by 17 runs. The man of the match was Clive Lloyd and the top scorer for the West Indies was Viv Richards with 138 runs. The tournament was held in England and was organized by the International Cricket Council (ICC).'"
            ],
            "application/vnd.google.colaboratory.intrinsic+json": {
              "type": "string"
            }
          },
          "metadata": {},
          "execution_count": 49
        }
      ]
    },
    {
      "cell_type": "code",
      "source": [
        "convo.run(\"How much is 5+5\")"
      ],
      "metadata": {
        "colab": {
          "base_uri": "https://localhost:8080/",
          "height": 54
        },
        "id": "sBiGrdGkp9S-",
        "outputId": "c1c527b7-12bb-4947-bbe1-1a1a4421f1e9"
      },
      "execution_count": 50,
      "outputs": [
        {
          "output_type": "execute_result",
          "data": {
            "text/plain": [
              "' 5+5 is equal to 10. This is known as a basic addition problem and the answer can also be written as 10=5+5. It is a simple mathematical equation that involves adding two numbers together. In this case, both numbers are the same (5) so the answer is a multiple of 5, which is 10.'"
            ],
            "application/vnd.google.colaboratory.intrinsic+json": {
              "type": "string"
            }
          },
          "metadata": {},
          "execution_count": 50
        }
      ]
    },
    {
      "cell_type": "code",
      "source": [
        "convo.run(\"Who won the captain of the winning team?\")"
      ],
      "metadata": {
        "colab": {
          "base_uri": "https://localhost:8080/",
          "height": 54
        },
        "id": "NPZtCKQBqFiV",
        "outputId": "46e9ca84-056d-404f-aabd-644758476afc"
      },
      "execution_count": 51,
      "outputs": [
        {
          "output_type": "execute_result",
          "data": {
            "text/plain": [
              "' The captain of the winning team for the first cricket world cup in 1975 was Clive Lloyd. He was also named the man of the match for his outstanding performance, scoring 102 runs. Clive Lloyd was a highly influential player and leader for the West Indies team, leading them to victory in two consecutive world cups in 1975 and 1979.'"
            ],
            "application/vnd.google.colaboratory.intrinsic+json": {
              "type": "string"
            }
          },
          "metadata": {},
          "execution_count": 51
        }
      ]
    },
    {
      "cell_type": "markdown",
      "source": [
        "### ConversationBufferWindowMemory"
      ],
      "metadata": {
        "id": "5B5IXg59pJq8"
      }
    },
    {
      "cell_type": "code",
      "source": [
        "from langchain.memory import ConversationBufferWindowMemory\n",
        "\n",
        "# Initialize conversation buffer window memory\n",
        "memory = ConversationBufferWindowMemory(k=1)\n",
        "\n",
        "# Create a conversation chain with memory\n",
        "convo = ConversationChain(llm=llm,memory=memory)"
      ],
      "metadata": {
        "id": "pyKO2fQDo9LX"
      },
      "execution_count": 52,
      "outputs": []
    },
    {
      "cell_type": "markdown",
      "source": [
        "Run the conversation chain with specific queries"
      ],
      "metadata": {
        "id": "Pp36jDqU8ctQ"
      }
    },
    {
      "cell_type": "code",
      "source": [
        "print(convo.run(\"Who won the first cricket world cup?\"))"
      ],
      "metadata": {
        "colab": {
          "base_uri": "https://localhost:8080/"
        },
        "id": "fhQORocZ8Zh_",
        "outputId": "4bbf92fe-46eb-4412-9821-d6f65704720e"
      },
      "execution_count": 53,
      "outputs": [
        {
          "output_type": "stream",
          "name": "stdout",
          "text": [
            " The first cricket world cup was won by the West Indies team in 1975. They defeated the Australian team by 17 runs in the final match. It was held in England and had a total of eight participating teams. The West Indies team was led by Clive Lloyd, and their star players were Viv Richards, Gordon Greenidge, and Andy Roberts.\n"
          ]
        }
      ]
    },
    {
      "cell_type": "code",
      "source": [
        "print(convo.run(\"What is 5+5\"))"
      ],
      "metadata": {
        "colab": {
          "base_uri": "https://localhost:8080/"
        },
        "id": "TKmQPKV4qctK",
        "outputId": "3f78396b-bd35-4d67-8004-25bcea8198d0"
      },
      "execution_count": 54,
      "outputs": [
        {
          "output_type": "stream",
          "name": "stdout",
          "text": [
            " 5+5 is equal to 10. This is a basic math equation and the answer is commonly known by humans.\n"
          ]
        }
      ]
    },
    {
      "cell_type": "code",
      "source": [
        "print(convo.run(\"Who was  the captain of winning team?\"))"
      ],
      "metadata": {
        "colab": {
          "base_uri": "https://localhost:8080/"
        },
        "id": "hyy86iMkqe7N",
        "outputId": "6a63b297-bd7f-424a-fad6-9c2f28994463"
      },
      "execution_count": 55,
      "outputs": [
        {
          "output_type": "stream",
          "name": "stdout",
          "text": [
            " I do not have enough context to accurately answer that question. Could you provide more information? Without knowing the specific team or winning event, I cannot provide a correct answer.\n"
          ]
        }
      ]
    },
    {
      "cell_type": "markdown",
      "source": [
        "### Document Loaders"
      ],
      "metadata": {
        "id": "_GxjO6yI1W65"
      }
    },
    {
      "cell_type": "code",
      "source": [
        "from langchain.document_loaders import PyPDFLoader"
      ],
      "metadata": {
        "id": "iadMuNsvrHjt"
      },
      "execution_count": 56,
      "outputs": []
    },
    {
      "cell_type": "code",
      "source": [
        "# Load a PDF document\n",
        "loader = PyPDFLoader(\"/content/Reflection.pdf\")\n",
        "pages = loader.load()"
      ],
      "metadata": {
        "id": "sGUIOD1j1ltm"
      },
      "execution_count": 57,
      "outputs": []
    },
    {
      "cell_type": "code",
      "source": [
        "# Print all pages\n",
        "print(pages)"
      ],
      "metadata": {
        "colab": {
          "base_uri": "https://localhost:8080/"
        },
        "id": "Yha9G2PF1sB1",
        "outputId": "7434170c-0a00-46f2-b938-62f6ac264ac2"
      },
      "execution_count": 58,
      "outputs": [
        {
          "output_type": "stream",
          "name": "stdout",
          "text": [
            "[Document(page_content=\"Reflection\\n-\\nStory\\nTelling\\nChallenge\\nI\\nwas\\nleading\\na\\nteam\\nof\\nprocess\\nanalysts\\nin\\na\\nfast-paced\\ntechnology\\ncompany\\ntasked\\nwith\\ndeveloping\\na\\ncutting-edge\\nproject\\nmanagement\\nsystem.\\nThe\\ncompany\\nis\\nundergoing\\na\\ndigital\\ntransformation,\\nand\\nthere's\\na\\ntight\\ndeadline\\nto\\ndeliver\\nthe\\nsoftware\\nwithin\\na\\nyear.\\nThe\\nchallenge\\nis\\nthat\\nthe\\nbest\\npractices\\nfor\\nproject\\nmanagement\\nwithin\\nthe\\norganization\\nare\\nnot\\nwell-documented,\\nand\\nkey\\ninsights\\nare\\nscattered\\namong\\nteam\\nleads\\nand\\nexperienced\\nproject\\nmanagers.\\nMy\\ngoal\\nis\\nto\\ndefine\\nthe\\nproject\\nmanagement\\nmodules\\nof\\nthe\\nsoftware\\naccurately,\\nincorporating\\nthe\\nunwritten\\nbest\\npractices\\nof\\nthe\\ncompany.\\nThese\\nbest\\npractices\\nare\\ncrucial\\nfor\\nefficient\\nproject\\nexecution,\\nbut\\nthe\\nknowledge\\nis\\nprimarily\\ntacit\\nand\\nresides\\nin\\nthe\\nminds\\nof\\nspecific\\nindividuals.\\nMy\\ntask\\nis\\nto\\ndevise\\na\\nstrategy\\nto\\nuncover\\nthese\\nimplicit\\npractices,\\nensuring\\nthat\\nthe\\nsoftware\\nreflects\\nthe\\nreal-world\\nworkflows\\nand\\nneeds\\nof\\nproject\\nmanagers\\nacross\\ndifferent\\nteams.\\nSelection\\nIn\\nthe\\ndynamic\\nlandscape\\nof\\na\\ntechnology\\ncompany\\nundergoing\\na\\ndigital\\ntransformation,\\nthe\\nchallenge\\nof\\ndeveloping\\na\\nstate-of-the-art\\nproject\\nmanagement\\nsystem\\nwithin\\na\\nstringent\\none-year\\ntimeframe\\nis\\nboth\\nexciting\\nand\\ndemanding.\\nThe\\nproject's\\nsuccess\\nhinges\\non\\nthe\\nability\\nto\\nextract\\ntacit\\nknowledge\\nscattered\\namong\\nteam\\nleads\\nand\\nexperienced\\nproject\\nmanagers,\\nas\\nthe\\norganization's\\nbest\\npractices\\nfor\\nproject\\nmanagement\\nare\\nnot\\nwell-documented.\\nTo\\naddress\\nthis,\\na\\nstrategy\\ncentered\\naround\\ncollaborative\\nworkshops\\nemerges\\nas\\na\\npromising\\napproach.\\nBy\\nbringing\\ntogether\\nstakeholders\\nfrom\\ndiverse\\nbackgrounds,\\nincluding\\nteam\\nleads\\nand\\nproject\\nmanagers,\\nthese\\nworkshops\\nfoster\\nan\\nopen\\nexchange\\nof\\ninsights\\nand\\nexperiences.\\nFurthermore,\\nincorporating\\nobservational\\ntechniques,\\nsuch\\nas\\nshadowing\\nand\\ndirect\\nobservation,\\nensures\\na\\nfirsthand\\nunderstanding\\nof\\ndaily\\nproject\\nmanagement\\nactivities.\\nThe\\niterative\\nprototyping\\nand\\nfeedback\\nloop\\nnot\\nonly\\naids\\nin\\nrefining\\nthe\\nsoftware\\nbut\\nalso\\nunveils\\nimplicit\\nrequirements\\nand\\npreferences,\\naligning\\nthe\\ndevelopment\\nprocess\\nwith\\nthe\\nreal-world\\nworkflows\\nof\\nproject\\nmanagers\\nacross\\ndifferent\\nteams.\\nThis\\nholistic\\nand\\ninclusive\\nstrategy\\naims\\nto\\nefficiently\\nnavigate\\nthe\\ntime\\nconstraints\\nwhile\\nensuring\\nthat\\nthe\\nresulting\\nproject\\nmanagement\\nsystem\\nreflects\\nthe\\nunwritten\\nbest\\npractices\\ncrucial\\nfor\\nthe\\norganization's\\nsuccess.\\nApplication\\nIn\\nthe\\ndynamic\\ncontext\\nof\\na\\ntechnology\\ncompany\\nundergoing\\na\\ndigital\\ntransformation,\\nthe\\nteam\\nstrategically\\napplies\\na\\nmultifaceted\\napproach\\nto\\nextract\\ntacit\\nknowledge\\nand\\ndevelop\\nan\\ninnovative\\nproject\\nmanagement\\nsystem.\\nCollaborative\\nworkshops\\nbecome\\nthe\\nepicenter\\nof\\nknowledge\\nexchange,\\nbringing\\ntogether\\nkey\\nstakeholders,\\nteam\\nleads,\\nand\\nexperienced\\nproject\\nmanagers.\\nThrough\\nstructured\\ninterviews\\nand\\nstorytelling,\\nparticipants\\nshare\\nnuanced\\ninsights,\\nenabling\\nthe\\nteam\\nto\\ngrasp\\nthe\\nintricacies\\nof\\nproject\\nmanagement\\npractices\\nnot\\ncaptured\\nin\\nformal\\ndocumentation.\\nSimultaneously,\\nobservational\\ntechniques\\nlike\\nshadowing\\nprovide\\na\\nfirsthand\\nview\\nof\\ndaily\\nproject\\nactivities,\\nuncovering\\nimplicit\\nbest\\npractices\", metadata={'source': '/content/Reflection.pdf', 'page': 0}), Document(page_content=\"deeply\\nembedded\\nin\\ndiverse\\nworkflows.\\nThe\\niterative\\nprototyping\\nprocess,\\ncomplemented\\nby\\nactive\\nfeedback\\nloops\\nfrom\\nproject\\nmanagers,\\nensures\\nthe\\nsoftware\\naligns\\nwith\\nboth\\nexplicit\\nand\\nimplicit\\nrequirements,\\nfostering\\nadaptability\\nand\\nrefining\\nthe\\nsystem\\nin\\nreal-time.\\nCross-functional\\nteams\\nare\\nstrategically\\nformed,\\ncreating\\na\\ncollaborative\\nenvironment\\nwhere\\ninsights\\nflow\\nfreely\\namong\\nproject\\nmanagers\\nfrom\\nvarious\\nbackgrounds.\\nThis\\napproach\\nnot\\nonly\\nfacilitates\\nknowledge\\nsharing\\nbut\\nalso\\npromotes\\na\\nculture\\nof\\ncollective\\nexpertise.\\nTo\\nbolster\\nthis,\\nthe\\nteam\\nimplements\\na\\nknowledge\\nmanagement\\nsystem,\\nacting\\nas\\na\\ncentralized\\nrepository\\nfor\\ntacit\\nknowledge\\ncontributed\\nby\\nproject\\nmanagers.\\nExternal\\nbenchmarks\\nare\\nexplored,\\nincorporating\\nsuccessful\\nproject\\nmanagement\\npractices\\nfrom\\nleading\\ntechnology\\ncompanies,\\nproviding\\na\\nbroader\\nperspective\\nand\\nenriching\\nthe\\ninternal\\nexpertise.\\nThrough\\ncontinuous\\nimprovement,\\nthe\\nteam\\nensures\\nthe\\nproject\\nmanagement\\nsystem\\nnot\\nonly\\nmeets\\nthe\\nimmediate\\nneeds\\nof\\nthe\\ndigital\\ntransformation\\nprogram\\nbut\\nremains\\nresponsive\\nto\\nthe\\nevolving\\nlandscape,\\npositioning\\nthe\\norganization\\nat\\nthe\\nforefront\\nof\\neffective\\nproject\\nmanagement\\npractices.\\nInsight\\nThe\\nstrategic\\nimplementation\\nof\\ncollaborative\\nworkshops,\\nobservational\\ntechniques,\\nand\\niterative\\nprototyping\\nprovides\\na\\nnuanced\\nunderstanding\\nof\\nproject\\nmanagement\\npractices\\nwithin\\nthe\\ntechnology\\ncompany\\nundergoing\\ndigital\\ntransformation.\\nThe\\ncollaborative\\nworkshops\\nserve\\nas\\nmelting\\npots\\nof\\nknowledge,\\ncapturing\\nthe\\ndiverse\\nexperiences\\nand\\ninsights\\nof\\nstakeholders,\\nthus\\nlaying\\na\\ncomprehensive\\nfoundation\\nfor\\nthe\\ndevelopment\\nof\\nthe\\nproject\\nmanagement\\nsystem.\\nConcurrently,\\nobservational\\ntechniques\\nlike\\nshadowing\\nimmerse\\nthe\\nteam\\nin\\nthe\\npractical\\nintricacies\\nof\\ndaily\\nproject\\nactivities,\\nunraveling\\nimplicit\\nbest\\npractices\\nthat\\nare\\noften\\nembedded\\nin\\nthe\\nsubtle\\nactions\\nand\\ndecisions\\nof\\nproject\\nmanagers.\\nAs\\nthe\\niterative\\nprototyping\\nprocess\\nunfolds,\\nthe\\nactive\\nfeedback\\nloops\\nfrom\\nproject\\nmanagers\\ncontribute\\nto\\na\\ndynamic\\nrefinement\\nof\\nthe\\nsoftware,\\nensuring\\nit\\nnot\\nonly\\nmeets\\nexplicit\\nrequirements\\nbut\\nalso\\nseamlessly\\naligns\\nwith\\ntacit\\nexpectations.\\nThe\\nformation\\nof\\ncross-functional\\nteams\\nfosters\\na\\ncollaborative\\nculture,\\nwhere\\ninsights\\nflow\\nfreely\\namong\\nproject\\nmanagers\\nfrom\\nvarious\\nbackgrounds,\\nenriching\\nthe\\ndevelopment\\nprocess\\nwith\\ncollective\\nexpertise.\\nComplemented\\nby\\nthe\\nestablishment\\nof\\na\\nknowledge\\nmanagement\\nsystem,\\nthis\\nstrategy\\ncreates\\na\\ncentralized\\nrepository\\nfor\\ntacit\\nknowledge,\\ntransforming\\nit\\ninto\\na\\nvaluable\\nresource\\nfor\\nongoing\\nand\\nfuture\\nprojects.\\nExternal\\nbenchmarks\\nadd\\nan\\nextra\\nlayer\\nof\\ninsight,\\ninfusing\\nthe\\norganization\\nwith\\nproven\\npractices\\nfrom\\nindustry\\nleaders,\\nwhile\\na\\ncommitment\\nto\\ncontinuous\\nimprovement\\nensures\\nadaptability\\nto\\nthe\\nevolving\\ntechnological\\nlandscape,\\npropelling\\nthe\\ncompany\\ntowards\\nsustained\\nsuccess\\nin\\nproject\\nmanagement\\nexcellence.\\nAppr oach\\nThe\\nchosen\\napproach\\nfor\\naddressing\\nthe\\nchallenge\\nof\\ndeveloping\\nan\\nadvanced\\nproject\\nmanagement\\nsystem\\nwithin\\na\\ntechnology\\ncompany\\nundergoing\\ndigital\\ntransformation\\nis\\ncharacterized\\nby\\na\\nmultifaceted\\nstrategy.\\nThrough\\ncollaborative\\nworkshops,\\nthe\\nteam\\nengages\\nstakeholders\\nin\\nopen\\ndiscussions,\\ncapturing\\na\\ndiverse\\nrange\\nof\\nperspectives\\nand\\nvaluable\\ninsights\\nrelated\\nto\\nproject\\nmanagement\\npractices.\\nThis\\ninclusive\\napproach\\nensures\\nthat\\nboth\\nexplicit\\nand\\nimplicit\\nknowledge\\nwithin\\nthe\\norganization\\nare\\nthoroughly\\nexplored,\\nsetting\\nthe\\nstage\\nfor\\na\\ncomprehensive\\nunderstanding\\nof\\nthe\\nproject's\\nrequirements.\", metadata={'source': '/content/Reflection.pdf', 'page': 1}), Document(page_content='Practical\\nobservation\\ntechniques,\\nsuch\\nas\\nshadowing,\\ncomplement\\nthe\\nworkshop\\ninsights\\nby\\nimmersing\\nthe\\nteam\\nin\\nthe\\ndaily\\nroutines\\nof\\nproject\\nmanagers.\\nThis\\nhands-on\\nexperience\\nunveils\\nimplicit\\nbest\\npractices\\ningrained\\nin\\nreal-world\\nworkflows,\\nproviding\\nnuanced\\ninsights\\nthat\\nmay\\nnot\\nbe\\napparent\\nthrough\\ntraditional\\ndocumentation\\nalone.\\nThe\\niterative\\nprototyping\\nprocess,\\ncoupled\\nwith\\ncontinuous\\nfeedback\\nloops,\\nallows\\nthe\\nteam\\nto\\nadapt\\nthe\\nsoftware\\nin\\nreal-time,\\nensuring\\nit\\naligns\\nseamlessly\\nwith\\nthe\\nevolving\\nneeds\\nof\\nproject\\nmanagers.\\nConcurrently,\\ncross-functional\\nteams\\nand\\na\\nknowledge\\nmanagement\\nsystem\\nfoster\\na\\ncollaborative\\nculture\\nwhere\\ninsights\\nare\\nfreely\\nexchanged\\namong\\nproject\\nmanagers\\nfrom\\ndiverse\\nbackgrounds,\\nenriching\\nthe\\ndevelopment\\nprocess\\nwith\\ncollective\\nexpertise.\\nExternal\\nbenchmarks\\nfrom\\nindustry\\nleaders\\ncontribute\\nadditional\\nperspectives,\\nensuring\\na\\nrobust\\napproach\\nthat\\nnot\\nonly\\nmeets\\nimmediate\\nproject\\nmanagement\\nneeds\\nbut\\nalso\\npositions\\nthe\\norganization\\nto\\nthrive\\nin\\nthe\\ndynamic\\nlandscape\\nof\\ntechnological\\nevolution.', metadata={'source': '/content/Reflection.pdf', 'page': 2})]\n"
          ]
        }
      ]
    },
    {
      "cell_type": "code",
      "source": [
        "# Print the first page\n",
        "print(pages[0])"
      ],
      "metadata": {
        "colab": {
          "base_uri": "https://localhost:8080/"
        },
        "id": "oh5WTlGp1sm6",
        "outputId": "1bf3e89b-db8b-482d-d1b7-7211a6f54e81"
      },
      "execution_count": 59,
      "outputs": [
        {
          "output_type": "stream",
          "name": "stdout",
          "text": [
            "page_content=\"Reflection\\n-\\nStory\\nTelling\\nChallenge\\nI\\nwas\\nleading\\na\\nteam\\nof\\nprocess\\nanalysts\\nin\\na\\nfast-paced\\ntechnology\\ncompany\\ntasked\\nwith\\ndeveloping\\na\\ncutting-edge\\nproject\\nmanagement\\nsystem.\\nThe\\ncompany\\nis\\nundergoing\\na\\ndigital\\ntransformation,\\nand\\nthere's\\na\\ntight\\ndeadline\\nto\\ndeliver\\nthe\\nsoftware\\nwithin\\na\\nyear.\\nThe\\nchallenge\\nis\\nthat\\nthe\\nbest\\npractices\\nfor\\nproject\\nmanagement\\nwithin\\nthe\\norganization\\nare\\nnot\\nwell-documented,\\nand\\nkey\\ninsights\\nare\\nscattered\\namong\\nteam\\nleads\\nand\\nexperienced\\nproject\\nmanagers.\\nMy\\ngoal\\nis\\nto\\ndefine\\nthe\\nproject\\nmanagement\\nmodules\\nof\\nthe\\nsoftware\\naccurately,\\nincorporating\\nthe\\nunwritten\\nbest\\npractices\\nof\\nthe\\ncompany.\\nThese\\nbest\\npractices\\nare\\ncrucial\\nfor\\nefficient\\nproject\\nexecution,\\nbut\\nthe\\nknowledge\\nis\\nprimarily\\ntacit\\nand\\nresides\\nin\\nthe\\nminds\\nof\\nspecific\\nindividuals.\\nMy\\ntask\\nis\\nto\\ndevise\\na\\nstrategy\\nto\\nuncover\\nthese\\nimplicit\\npractices,\\nensuring\\nthat\\nthe\\nsoftware\\nreflects\\nthe\\nreal-world\\nworkflows\\nand\\nneeds\\nof\\nproject\\nmanagers\\nacross\\ndifferent\\nteams.\\nSelection\\nIn\\nthe\\ndynamic\\nlandscape\\nof\\na\\ntechnology\\ncompany\\nundergoing\\na\\ndigital\\ntransformation,\\nthe\\nchallenge\\nof\\ndeveloping\\na\\nstate-of-the-art\\nproject\\nmanagement\\nsystem\\nwithin\\na\\nstringent\\none-year\\ntimeframe\\nis\\nboth\\nexciting\\nand\\ndemanding.\\nThe\\nproject's\\nsuccess\\nhinges\\non\\nthe\\nability\\nto\\nextract\\ntacit\\nknowledge\\nscattered\\namong\\nteam\\nleads\\nand\\nexperienced\\nproject\\nmanagers,\\nas\\nthe\\norganization's\\nbest\\npractices\\nfor\\nproject\\nmanagement\\nare\\nnot\\nwell-documented.\\nTo\\naddress\\nthis,\\na\\nstrategy\\ncentered\\naround\\ncollaborative\\nworkshops\\nemerges\\nas\\na\\npromising\\napproach.\\nBy\\nbringing\\ntogether\\nstakeholders\\nfrom\\ndiverse\\nbackgrounds,\\nincluding\\nteam\\nleads\\nand\\nproject\\nmanagers,\\nthese\\nworkshops\\nfoster\\nan\\nopen\\nexchange\\nof\\ninsights\\nand\\nexperiences.\\nFurthermore,\\nincorporating\\nobservational\\ntechniques,\\nsuch\\nas\\nshadowing\\nand\\ndirect\\nobservation,\\nensures\\na\\nfirsthand\\nunderstanding\\nof\\ndaily\\nproject\\nmanagement\\nactivities.\\nThe\\niterative\\nprototyping\\nand\\nfeedback\\nloop\\nnot\\nonly\\naids\\nin\\nrefining\\nthe\\nsoftware\\nbut\\nalso\\nunveils\\nimplicit\\nrequirements\\nand\\npreferences,\\naligning\\nthe\\ndevelopment\\nprocess\\nwith\\nthe\\nreal-world\\nworkflows\\nof\\nproject\\nmanagers\\nacross\\ndifferent\\nteams.\\nThis\\nholistic\\nand\\ninclusive\\nstrategy\\naims\\nto\\nefficiently\\nnavigate\\nthe\\ntime\\nconstraints\\nwhile\\nensuring\\nthat\\nthe\\nresulting\\nproject\\nmanagement\\nsystem\\nreflects\\nthe\\nunwritten\\nbest\\npractices\\ncrucial\\nfor\\nthe\\norganization's\\nsuccess.\\nApplication\\nIn\\nthe\\ndynamic\\ncontext\\nof\\na\\ntechnology\\ncompany\\nundergoing\\na\\ndigital\\ntransformation,\\nthe\\nteam\\nstrategically\\napplies\\na\\nmultifaceted\\napproach\\nto\\nextract\\ntacit\\nknowledge\\nand\\ndevelop\\nan\\ninnovative\\nproject\\nmanagement\\nsystem.\\nCollaborative\\nworkshops\\nbecome\\nthe\\nepicenter\\nof\\nknowledge\\nexchange,\\nbringing\\ntogether\\nkey\\nstakeholders,\\nteam\\nleads,\\nand\\nexperienced\\nproject\\nmanagers.\\nThrough\\nstructured\\ninterviews\\nand\\nstorytelling,\\nparticipants\\nshare\\nnuanced\\ninsights,\\nenabling\\nthe\\nteam\\nto\\ngrasp\\nthe\\nintricacies\\nof\\nproject\\nmanagement\\npractices\\nnot\\ncaptured\\nin\\nformal\\ndocumentation.\\nSimultaneously,\\nobservational\\ntechniques\\nlike\\nshadowing\\nprovide\\na\\nfirsthand\\nview\\nof\\ndaily\\nproject\\nactivities,\\nuncovering\\nimplicit\\nbest\\npractices\" metadata={'source': '/content/Reflection.pdf', 'page': 0}\n"
          ]
        }
      ]
    }
  ]
}